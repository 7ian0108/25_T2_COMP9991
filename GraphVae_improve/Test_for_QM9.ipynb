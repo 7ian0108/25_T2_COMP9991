{
 "cells": [
  {
   "cell_type": "markdown",
   "id": "8c22ac2f-58df-48dd-9f20-7b0a23bb7852",
   "metadata": {},
   "source": [
    "## testQM9"
   ]
  },
  {
   "cell_type": "code",
   "execution_count": 1,
   "id": "b012fcb3-c723-404a-993f-78e6fdd0d06d",
   "metadata": {},
   "outputs": [],
   "source": [
    "import torch\n",
    "import torch.nn as nn\n",
    "import torch.nn.functional as F\n",
    "import numpy as np\n",
    "import networkx as nx\n",
    "import matplotlib.pyplot as plt\n",
    "from torch_geometric.datasets import QM9\n",
    "from torch_geometric.utils import to_dense_adj\n",
    "from torch_geometric.data import DataLoader\n",
    "from torch_geometric.nn import GCNConv, TopKPooling\n",
    "from torch_geometric.transforms import ToUndirected\n",
    "from tqdm import tqdm\n",
    "from sklearn.metrics import accuracy_score, precision_score, recall_score, f1_score, roc_auc_score, average_precision_score\n"
   ]
  },
  {
   "cell_type": "code",
   "execution_count": 2,
   "id": "8e28ae90-6b07-4fb4-8c86-b2c6bee58d9d",
   "metadata": {},
   "outputs": [
    {
     "data": {
      "text/plain": [
       "device(type='cuda')"
      ]
     },
     "execution_count": 2,
     "metadata": {},
     "output_type": "execute_result"
    }
   ],
   "source": [
    "device = torch.device('cuda' if torch.cuda.is_available() else 'cpu')\n",
    "device"
   ]
  },
  {
   "cell_type": "markdown",
   "id": "176f550c-c938-44ce-869b-dd6146983b39",
   "metadata": {},
   "source": [
    "## 加载数据集"
   ]
  },
  {
   "cell_type": "code",
   "execution_count": 3,
   "id": "9326bd5b-f69e-4db2-8e64-365017edb0e1",
   "metadata": {},
   "outputs": [],
   "source": [
    "# === SinCos 位置编码 ===\n",
    "def sinusoidal_index_pe(num_nodes, dim):\n",
    "    pe = torch.zeros(num_nodes, dim)\n",
    "    position = torch.arange(0, num_nodes).unsqueeze(1)\n",
    "    div_term = torch.exp(torch.arange(0, dim, 2) * -(np.log(10000.0) / dim))\n",
    "    pe[:, 0::2] = torch.sin(position * div_term)\n",
    "    pe[:, 1::2] = torch.cos(position * div_term)\n",
    "    return pe"
   ]
  },
  {
   "cell_type": "code",
   "execution_count": 7,
   "id": "f3e34fc8-dc1e-4dbf-840c-87a4fe005cbb",
   "metadata": {},
   "outputs": [],
   "source": [
    "# === Encoder ===\n",
    "class GCNEncoderWithPool(nn.Module):\n",
    "    def __init__(self, in_dim, pe_dim, hidden_dim, latent_dim, pool_ratio=0.5):\n",
    "        super().__init__()\n",
    "        self.gc1 = GCNConv(in_dim + pe_dim, hidden_dim)\n",
    "        self.gc_mu = GCNConv(hidden_dim, latent_dim)\n",
    "        self.gc_logvar = GCNConv(hidden_dim, latent_dim)\n",
    "        self.pool = TopKPooling(latent_dim, ratio=pool_ratio)\n",
    "\n",
    "    def forward(self, x_raw, sincos_pe, edge_index):\n",
    "        x_in = torch.cat([x_raw, sincos_pe], dim=-1)\n",
    "        h = F.relu(self.gc1(x_in, edge_index))\n",
    "        mu = self.gc_mu(h, edge_index)\n",
    "        logvar = self.gc_logvar(h, edge_index)\n",
    "        std = torch.exp(0.5 * logvar)\n",
    "        eps = torch.randn_like(std)\n",
    "        z = mu + eps * std\n",
    "        z_pool, edge_index_pool, _, batch, perm, score = self.pool(z, edge_index, None, batch=None)\n",
    "        return z_pool, mu, logvar"
   ]
  },
  {
   "cell_type": "code",
   "execution_count": 8,
   "id": "4c881c41-96bb-4c9c-82c0-cb2ea61973d4",
   "metadata": {},
   "outputs": [],
   "source": [
    "# === Transformer Decoder + Pairwise MLP ===\n",
    "class TransformerDecoderCross(nn.Module):\n",
    "    def __init__(self, latent_dim, pe_dim=8, num_heads=4, num_layers=2, feat_dim=11):\n",
    "        super().__init__()\n",
    "        self.input_proj = nn.Linear(pe_dim + feat_dim, latent_dim)\n",
    "        decoder_layer = nn.TransformerDecoderLayer(\n",
    "            d_model=latent_dim,\n",
    "            nhead=num_heads,\n",
    "            dim_feedforward=latent_dim * 2,\n",
    "            batch_first=True\n",
    "        )\n",
    "        self.decoder = nn.TransformerDecoder(decoder_layer, num_layers=num_layers)\n",
    "        self.edge_mlp = nn.Sequential(\n",
    "            nn.Linear(latent_dim * 2, latent_dim),\n",
    "            nn.ReLU(),\n",
    "            nn.Linear(latent_dim, 1),\n",
    "            nn.Sigmoid()\n",
    "        )\n",
    "    \n",
    "    def forward(self, mask_nodes, sincos_pe, h_pool):\n",
    "        kv = h_pool.unsqueeze(0)\n",
    "        q_dec = torch.cat([mask_nodes, sincos_pe], dim=-1)\n",
    "        q_proj = self.input_proj(q_dec).unsqueeze(0)\n",
    "        h_dec = self.decoder(q_proj, kv).squeeze(0)\n",
    "\n",
    "        N = h_dec.size(0)\n",
    "        edge_prob = torch.zeros(N, N)\n",
    "        for i in range(N):\n",
    "            for j in range(N):\n",
    "                if i == j:\n",
    "                    edge_prob[i, j] = 0.0\n",
    "                else:\n",
    "                    edge_prob[i, j] = self.edge_mlp(torch.cat([h_dec[i], h_dec[j]], dim=-1))\n",
    "        return edge_prob"
   ]
  },
  {
   "cell_type": "code",
   "execution_count": 9,
   "id": "6c2b365a-623d-4ef7-9318-3c6ec5c59ad7",
   "metadata": {},
   "outputs": [],
   "source": [
    "# === GraphVAE + Pool ===\n",
    "class GraphVAEPooled(nn.Module):\n",
    "    def __init__(self, feat_dim, pe_dim, hidden_dim, latent_dim, pool_ratio=0.5):\n",
    "        super().__init__()\n",
    "        self.encoder = GCNEncoderWithPool(feat_dim, pe_dim, hidden_dim, latent_dim, pool_ratio)\n",
    "        self.decoder = TransformerDecoderCross(latent_dim, pe_dim=pe_dim, feat_dim=feat_dim)\n",
    "\n",
    "    def forward(self, x_raw, edge_index, sincos_pe):\n",
    "        h_pool, mu, logvar = self.encoder(x_raw, sincos_pe, edge_index)\n",
    "        mask_nodes = torch.zeros_like(x_raw)\n",
    "        edge_prob = self.decoder(mask_nodes, sincos_pe, h_pool)\n",
    "        return edge_prob, mu, logvar"
   ]
  },
  {
   "cell_type": "code",
   "execution_count": 10,
   "id": "899eced7-e07b-4d90-9978-afc6d39783c1",
   "metadata": {},
   "outputs": [],
   "source": [
    "# === 损失函数 ===\n",
    "def graph_vae_loss(A_pred, A_gt, mu, logvar):\n",
    "    recon = F.binary_cross_entropy(A_pred.view(-1), A_gt.view(-1))\n",
    "    kl = -0.5 * torch.mean(1 + logvar - mu.pow(2) - logvar.exp())\n",
    "    return recon + kl"
   ]
  },
  {
   "cell_type": "code",
   "execution_count": 11,
   "id": "39dc7046-92b5-4109-b72a-6a9b693fdea1",
   "metadata": {},
   "outputs": [],
   "source": [
    "# === 可视化 ===\n",
    "def visualize_gt_vs_pred(adj_gt, edge_pred_bin):\n",
    "    G_gt = nx.from_numpy_array(adj_gt.numpy())\n",
    "    G_pred = nx.from_numpy_array(edge_pred_bin.numpy())\n",
    "    pos = nx.spring_layout(G_gt, seed=42)\n",
    "    plt.figure(figsize=(12,6))\n",
    "    plt.subplot(1,2,1)\n",
    "    nx.draw(G_gt, pos, with_labels=True, node_color='skyblue', edge_color='green')\n",
    "    plt.title(\"Ground Truth\")\n",
    "    plt.subplot(1,2,2)\n",
    "    nx.draw(G_pred, pos, with_labels=True, node_color='orange', edge_color='red')\n",
    "    plt.title(\"Predicted Graph\")\n",
    "    plt.show()"
   ]
  },
  {
   "cell_type": "code",
   "execution_count": 16,
   "id": "34584748-9d9b-4c92-85e1-eeb541fdb0f9",
   "metadata": {},
   "outputs": [
    {
     "name": "stdout",
     "output_type": "stream",
     "text": [
      "[Step 0] Loss: 1.4297\n",
      "[Step 100] Loss: 0.0864\n",
      "[Step 200] Loss: 0.0463\n",
      "[Step 300] Loss: 0.0131\n",
      "[Step 400] Loss: 0.0042\n",
      "\n",
      "GT adjacency:\n",
      " tensor([[0., 1., 0., 0., 0., 0.],\n",
      "        [1., 0., 1., 0., 0., 1.],\n",
      "        [0., 1., 0., 1., 0., 0.],\n",
      "        [0., 0., 1., 0., 1., 0.],\n",
      "        [0., 0., 0., 1., 0., 1.],\n",
      "        [0., 1., 0., 0., 1., 0.]])\n",
      "\n",
      "Pred adjacency:\n",
      " tensor([[0., 1., 0., 0., 0., 0.],\n",
      "        [1., 0., 1., 0., 0., 1.],\n",
      "        [0., 1., 0., 1., 0., 0.],\n",
      "        [0., 0., 1., 0., 1., 0.],\n",
      "        [0., 0., 0., 1., 0., 1.],\n",
      "        [0., 1., 0., 0., 1., 0.]])\n"
     ]
    }
   ],
   "source": [
    "# === 主流程 ===\n",
    "if __name__ == \"__main__\":\n",
    "    # 加载一个图 10000 7777 9580\n",
    "    dataset = QM9(root='data/QM9')\n",
    "    data = dataset[765]\n",
    "    x_raw = data.x\n",
    "    edge_index = data.edge_index\n",
    "    adj_gt = to_dense_adj(edge_index)[0]\n",
    "    sincos_pe = sinusoidal_index_pe(x_raw.size(0), dim=8)\n",
    "\n",
    "    # 初始化模型\n",
    "    model = GraphVAEPooled(feat_dim=11, pe_dim=8, hidden_dim=32, latent_dim=32, pool_ratio=0.5)\n",
    "    opt = torch.optim.Adam(model.parameters(), lr=0.005)\n",
    "\n",
    "    # 训练\n",
    "    for step in range(500):\n",
    "        A_pred, mu, logvar = model(x_raw, edge_index, sincos_pe)\n",
    "        loss = graph_vae_loss(A_pred, adj_gt, mu, logvar)\n",
    "        opt.zero_grad()\n",
    "        loss.backward()\n",
    "        opt.step()\n",
    "        if step % 100 == 0:\n",
    "            print(f\"[Step {step}] Loss: {loss.item():.4f}\")\n",
    "\n",
    "    # 预测结果\n",
    "    A_pred, _, _ = model(x_raw, edge_index, sincos_pe)\n",
    "    edge_pred_bin = (A_pred > 0.5).float()\n",
    "    print(\"\\nGT adjacency:\\n\", adj_gt)\n",
    "    print(\"\\nPred adjacency:\\n\", edge_pred_bin)\n"
   ]
  },
  {
   "cell_type": "code",
   "execution_count": 15,
   "id": "e1ed0ae3-8f28-4c7b-93df-b530d13b71f3",
   "metadata": {},
   "outputs": [
    {
     "data": {
      "image/png": "[encoded data removed]",
      "text/plain": [
       "<Figure size 1200x600 with 2 Axes>"
      ]
     },
     "metadata": {},
     "output_type": "display_data"
    }
   ],
   "source": [
    " # 可视化\n",
    "visualize_gt_vs_pred(adj_gt, edge_pred_bin)"
   ]
  },
  {
   "cell_type": "code",
   "execution_count": 18,
   "id": "a8a0ceaa-6cae-4c07-8d6e-44f63acbf68c",
   "metadata": {},
   "outputs": [
    {
     "name": "stdout",
     "output_type": "stream",
     "text": [
      "\n",
      "=== Evaluation Metrics ===\n",
      "Accuracy: 1.0000\n",
      "Precision: 1.0000\n",
      "Recall: 1.0000\n",
      "F1 Score: 1.0000\n",
      "ROC-AUC: 1.0000\n",
      "Average Precision (AP): 1.0000\n"
     ]
    }
   ],
   "source": [
    "y_true = adj_gt.cpu().numpy().flatten()\n",
    "y_pred = edge_pred_bin.cpu().numpy().flatten()\n",
    "y_score = A_pred.detach().cpu().numpy().flatten()\n",
    "\n",
    "# 指标计算\n",
    "acc = accuracy_score(y_true, y_pred)\n",
    "precision = precision_score(y_true, y_pred, zero_division=0)\n",
    "recall = recall_score(y_true, y_pred, zero_division=0)\n",
    "f1 = f1_score(y_true, y_pred, zero_division=0)\n",
    "roc_auc = roc_auc_score(y_true, y_score)\n",
    "ap = average_precision_score(y_true, y_score)\n",
    "\n",
    "print(\"\\n=== Evaluation Metrics ===\")\n",
    "print(f\"Accuracy: {acc:.4f}\")\n",
    "print(f\"Precision: {precision:.4f}\")\n",
    "print(f\"Recall: {recall:.4f}\")\n",
    "print(f\"F1 Score: {f1:.4f}\")\n",
    "print(f\"ROC-AUC: {roc_auc:.4f}\")\n",
    "print(f\"Average Precision (AP): {ap:.4f}\")"
   ]
  },
  {
   "cell_type": "code",
   "execution_count": 4,
   "id": "63aaefc0-0891-49b6-ae9e-ec0f48847914",
   "metadata": {},
   "outputs": [
    {
     "name": "stdout",
     "output_type": "stream",
     "text": [
      "True\n",
      "12.8\n",
      "NVIDIA GeForce RTX 5070 Ti\n"
     ]
    }
   ],
   "source": [
    "import torch\n",
    "print(torch.cuda.is_available())        # 是否能检测到 GPU？\n",
    "print(torch.version.cuda)               # CUDA 版本\n",
    "print(torch.cuda.get_device_name(0))    # GPU 名称（如果可用）\n"
   ]
  },
  {
   "cell_type": "code",
   "execution_count": null,
   "id": "6959ffc2-87f6-4d8c-96a9-c010b57e29ab",
   "metadata": {},
   "outputs": [],
   "source": []
  },
  {
   "cell_type": "code",
   "execution_count": null,
   "id": "72051306-f603-4924-8fdc-82339e56fe8e",
   "metadata": {},
   "outputs": [],
   "source": []
  }
 ],
 "metadata": {
  "kernelspec": {
   "display_name": "Python 3 (ipykernel)",
   "language": "python",
   "name": "python3"
  },
  "language_info": {
   "codemirror_mode": {
    "name": "ipython",
    "version": 3
   },
   "file_extension": ".py",
   "mimetype": "text/x-python",
   "name": "python",
   "nbconvert_exporter": "python",
   "pygments_lexer": "ipython3",
   "version": "3.10.18"
  }
 },
 "nbformat": 4,
 "nbformat_minor": 5
}
